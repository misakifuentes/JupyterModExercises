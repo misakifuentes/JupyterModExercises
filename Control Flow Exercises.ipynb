{
 "cells": [
  {
   "cell_type": "code",
   "execution_count": 6,
   "id": "ffa99b28",
   "metadata": {},
   "outputs": [
    {
     "name": "stdout",
     "output_type": "stream",
     "text": [
      "Guess a number between 1 through 10 until you get it right!: 5\n",
      "Guess a number between 1 through 10 until you get it right!: 3\n",
      "Guess a number between 1 through 10 until you get it right!: 4\n",
      "Guess a number between 1 through 10 until you get it right!: 5\n",
      "Guess a number between 1 through 10 until you get it right!: 2\n",
      "Guess a number between 1 through 10 until you get it right!: 6\n",
      "Well Guessed!\n"
     ]
    }
   ],
   "source": [
    "#exercise 1\n",
    "\n",
    "import random\n",
    "target_num, guess_num= random.randint(1,10),0\n",
    "while target_num != guess_num:\n",
    "    guess_num = int (input(\"Guess a number between 1 through 10 until you get it right!: \"))\n",
    "print (\"Well Guessed!\")"
   ]
  },
  {
   "cell_type": "code",
   "execution_count": 7,
   "id": "b483953c",
   "metadata": {},
   "outputs": [
    {
     "ename": "SyntaxError",
     "evalue": "invalid syntax (1862462426.py, line 9)",
     "output_type": "error",
     "traceback": [
      "\u001b[1;36m  Input \u001b[1;32mIn [7]\u001b[1;36m\u001b[0m\n\u001b[1;33m    elife not re.search(\"\")\u001b[0m\n\u001b[1;37m              ^\u001b[0m\n\u001b[1;31mSyntaxError\u001b[0m\u001b[1;31m:\u001b[0m invalid syntax\n"
     ]
    }
   ],
   "source": [
    "#exercise 2\n",
    "import re\n",
    "p = input\n",
    "x = True\n",
    "while x:\n",
    "    if (len(p)<6 or len(p)>16):\n",
    "        break\n",
    "    elif not re.search(\"[a-z]\",p):\n",
    "        break\n",
    "    elif not re.search(\"[A-Z]\",p):\n",
    "        break\n",
    "    elif not re.search(\"\")"
   ]
  },
  {
   "cell_type": "code",
   "execution_count": null,
   "id": "f161cd2c",
   "metadata": {},
   "outputs": [],
   "source": [
    "#exercise 3"
   ]
  },
  {
   "cell_type": "code",
   "execution_count": 11,
   "id": "2f9a70e8",
   "metadata": {},
   "outputs": [
    {
     "name": "stdout",
     "output_type": "stream",
     "text": [
      "enter 3 ages as digits separated by space\n",
      "enter age3\n",
      "enter age9\n",
      "enter age5\n",
      "the highest age is:  9\n",
      "the lowest age is:  3\n"
     ]
    }
   ],
   "source": [
    "print(\"enter 3 ages as digits separated by space\")\n",
    "age1 = int(input(\"enter age\"))\n",
    "age2 = int(input(\"enter age\"))\n",
    "age3 = int(input(\"enter age\"))\n",
    "agelist = [age1, age2, age3]\n",
    "print(\"the highest age is: \", max(agelist))\n",
    "print(\"the lowest age is: \", min(agelist))"
   ]
  },
  {
   "cell_type": "code",
   "execution_count": 12,
   "id": "7584cc67",
   "metadata": {},
   "outputs": [
    {
     "name": "stdout",
     "output_type": "stream",
     "text": [
      "Number of classes held: 20\n",
      "Number of classes attended15\n",
      "75.0%\n",
      "Student failed\n"
     ]
    }
   ],
   "source": [
    "#exercise 4\n",
    "x = input(\"Number of classes held: \")\n",
    "y = input(\"Number of classes attended\")\n",
    "z=int(y)/int(x)\n",
    "w=z*100\n",
    "print(str(w)+\"%\")\n",
    "if w > 75:\n",
    "    print(\"Student is allowed to sit in exam.\")\n",
    "         \n",
    "else:\n",
    "          print(\"Student failed\")"
   ]
  },
  {
   "cell_type": "code",
   "execution_count": 4,
   "id": "04874b45",
   "metadata": {},
   "outputs": [
    {
     "name": "stdout",
     "output_type": "stream",
     "text": [
      "8\n",
      "Weird\n"
     ]
    }
   ],
   "source": [
    "#exercise 5\n",
    "N = int(input(\"\"))\n",
    "if N%2==1:\n",
    "    print(\"Weird\")\n",
    "elif N%2==0 and N in range(3, 6):\n",
    "    print(\"Not Weird\")\n",
    "elif N%2==0 and N in range(6, 21):\n",
    "    print(\"Weird\")\n",
    "elif N%2==0 and N>20:\n",
    "    print(\"Not Weird\")"
   ]
  },
  {
   "cell_type": "code",
   "execution_count": null,
   "id": "c7a6b532",
   "metadata": {},
   "outputs": [],
   "source": []
  }
 ],
 "metadata": {
  "kernelspec": {
   "display_name": "Python 3 (ipykernel)",
   "language": "python",
   "name": "python3"
  },
  "language_info": {
   "codemirror_mode": {
    "name": "ipython",
    "version": 3
   },
   "file_extension": ".py",
   "mimetype": "text/x-python",
   "name": "python",
   "nbconvert_exporter": "python",
   "pygments_lexer": "ipython3",
   "version": "3.9.12"
  }
 },
 "nbformat": 4,
 "nbformat_minor": 5
}
