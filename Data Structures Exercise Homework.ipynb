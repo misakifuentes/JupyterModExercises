{
 "cells": [
  {
   "cell_type": "code",
   "execution_count": 1,
   "id": "ade47dd9",
   "metadata": {},
   "outputs": [],
   "source": [
    "import math #exercise 1\n",
    "def solve_quadratic(a,b,c):\n",
    "\n",
    "    d = int(b*b) - int(4*a*c)\n",
    "    \n",
    "    sol1 = (-b-math.sqrt(d))/(2*a)\n",
    "    sol2 = (-b+math.sqrt(d))/(2*a)\n",
    "    \n",
    "    tup = sol1, sol2;\n",
    "    \n",
    "    print(tuppleware)\n",
    "    \n",
    "    return tuppleware"
   ]
  },
  {
   "cell_type": "code",
   "execution_count": 3,
   "id": "c30e4104",
   "metadata": {},
   "outputs": [
    {
     "name": "stdout",
     "output_type": "stream",
     "text": [
      "(1.0, 2.0)\n",
      "(-1.0, -1.0)\n"
     ]
    },
    {
     "data": {
      "text/plain": [
       "(-1.0, -1.0)"
      ]
     },
     "execution_count": 3,
     "metadata": {},
     "output_type": "execute_result"
    }
   ],
   "source": [
    "solve_quadratic(1, -3, 2)\n",
    "solve_quadratic(1, 2, 1)"
   ]
  },
  {
   "cell_type": "code",
   "execution_count": 101,
   "id": "36fd0ad4",
   "metadata": {},
   "outputs": [
    {
     "name": "stdout",
     "output_type": "stream",
     "text": [
      "[1 2 3 4 5]\n",
      "[1 2 3 4 5]\n",
      "[1 2 3 4 5]\n"
     ]
    },
    {
     "data": {
      "text/plain": [
       "8794327395218"
      ]
     },
     "execution_count": 101,
     "metadata": {},
     "output_type": "execute_result"
    }
   ],
   "source": [
    "L = input() #exercise 2\n",
    "print(L)\n",
    "t=L\n",
    "print (t)\n",
    "hash(tuple)"
   ]
  },
  {
   "cell_type": "code",
   "execution_count": 7,
   "id": "dc58c087",
   "metadata": {},
   "outputs": [
    {
     "name": "stdout",
     "output_type": "stream",
     "text": [
      "input space-separate liste of integers: 1 2 3 4 5\n",
      "['1', ' ', '2', ' ', '3', ' ', '4', ' ', '5']\n",
      "1312055\n",
      "<class 'int'>\n"
     ]
    }
   ],
   "source": [
    "x=(input(\"input space-separate liste of integers: \"))\n",
    "y=list(x)\n",
    "print(y)\n",
    "tuple=(input)\n",
    "z=hash(tuple)\n",
    "print(z)\n",
    "print(type(z))"
   ]
  },
  {
   "cell_type": "code",
   "execution_count": 5,
   "id": "525139cf",
   "metadata": {},
   "outputs": [
    {
     "name": "stdout",
     "output_type": "stream",
     "text": [
      "[1 2 3 4 5 6 7]\n"
     ]
    },
    {
     "data": {
      "text/plain": [
       "6267727783652480337"
      ]
     },
     "execution_count": 5,
     "metadata": {},
     "output_type": "execute_result"
    }
   ],
   "source": [
    "tuppleware = input()\n",
    "output = tuple(tuppleware)\n",
    "hash(output)"
   ]
  },
  {
   "cell_type": "code",
   "execution_count": 7,
   "id": "47380c70",
   "metadata": {},
   "outputs": [
    {
     "name": "stdout",
     "output_type": "stream",
     "text": [
      "Enter a number: 1\n",
      "1 is Odd\n"
     ]
    }
   ],
   "source": [
    "a = int(input(\"Enter a number: \"))\n",
    "if (a % 2) == 0:\n",
    "   print(\"{0} is Even\".format(a))\n",
    "else:\n",
    "   print(\"{0} is Odd\".format(a))"
   ]
  },
  {
   "cell_type": "code",
   "execution_count": 9,
   "id": "a17fd55e",
   "metadata": {},
   "outputs": [],
   "source": [
    "list1 = [3, 6, 9, 12, 15, 18, 21]\n",
    "list2 = [4, 8, 12, 16, 20, 24, 28]"
   ]
  },
  {
   "cell_type": "code",
   "execution_count": 10,
   "id": "27ac9302",
   "metadata": {},
   "outputs": [
    {
     "name": "stdout",
     "output_type": "stream",
     "text": [
      "[6, 12, 18, 4, 12, 20, 28]\n"
     ]
    }
   ],
   "source": [
    "y = list1[1:len(list1):2] #exercise 3\n",
    "z = list2[0:len(list2):2]\n",
    "#4,12,20,28\n",
    "list3=list(y+z)\n",
    "print(list3)"
   ]
  },
  {
   "cell_type": "code",
   "execution_count": 114,
   "id": "b7a53a00",
   "metadata": {},
   "outputs": [],
   "source": [
    "list = [11, 45, 8, 23, 14, 12, 78, 45, 89] #exercise 4"
   ]
  },
  {
   "cell_type": "code",
   "execution_count": 1,
   "id": "93c26c3c",
   "metadata": {},
   "outputs": [
    {
     "name": "stdout",
     "output_type": "stream",
     "text": [
      "[8, 45, 11, 12, 14, 23, 89, 45, 78]\n"
     ]
    }
   ],
   "source": [
    "lst = [11, 45, 8, 23, 14, 12, 78, 45, 89]\n",
    "chunk = 3\n",
    "\n",
    "for i in range(0, len(lst), chunk):\n",
    "    lst[i:i+chunk] = reversed(lst[i:i+chunk])\n",
    "\n",
    "print(lst)\n",
    "# [4, 3, 2, 1, 4, 3, 2, 1, 4, 3, 2, 1, 3, 2, 1]"
   ]
  },
  {
   "cell_type": "code",
   "execution_count": null,
   "id": "834d268f",
   "metadata": {},
   "outputs": [],
   "source": [
    "sampleList = [11, 45, 8, 23, 14, 12, 78, 45, 89]\n",
    "print(len(sampleList))\n",
    "print(sampleList)\n",
    "x=(sampleList [ : 3 : -1])\n"
   ]
  },
  {
   "cell_type": "code",
   "execution_count": 97,
   "id": "0a3bdc4b",
   "metadata": {},
   "outputs": [],
   "source": [
    "from itertools import islice\n",
    "\n",
    "def split_every(n, iterable):\n",
    "    i = iter(iterable)\n",
    "    piece = list(islice(i, n))\n",
    "    while piece:\n",
    "        yield piece\n",
    "        piece = list(islice(i, n))"
   ]
  },
  {
   "cell_type": "code",
   "execution_count": 117,
   "id": "dda58850",
   "metadata": {},
   "outputs": [
    {
     "data": {
      "text/plain": [
       "<generator object split_every at 0x000001EE495FE190>"
      ]
     },
     "execution_count": 117,
     "metadata": {},
     "output_type": "execute_result"
    }
   ],
   "source": [
    "split_every(3, range(10))"
   ]
  },
  {
   "cell_type": "code",
   "execution_count": 96,
   "id": "326a8d1a",
   "metadata": {},
   "outputs": [
    {
     "data": {
      "text/plain": [
       "<generator object split_every at 0x000001EE4962C580>"
      ]
     },
     "execution_count": 96,
     "metadata": {},
     "output_type": "execute_result"
    }
   ],
   "source": [
    "split_every(3, 10)"
   ]
  },
  {
   "cell_type": "code",
   "execution_count": 111,
   "id": "143bf2fa",
   "metadata": {},
   "outputs": [],
   "source": [
    "rollNumber = [47, 64, 69, 37, 76, 83, 95, 97] #exercise 5\n",
    "sampleDict ={'Zach':47, 'Emma':69, 'Kelly':76, 'Jason':97}\n"
   ]
  },
  {
   "cell_type": "code",
   "execution_count": 112,
   "id": "ead998a7",
   "metadata": {},
   "outputs": [
    {
     "name": "stdout",
     "output_type": "stream",
     "text": [
      "[47, 69, 76, 97]\n"
     ]
    }
   ],
   "source": [
    "#verifying the given elements in the dictionary\n",
    "\n",
    "i = 0\n",
    "while i < len(rollNumber):\n",
    "    if rollNumber[i] in sampleDict.values(): #check if\n",
    "        i += 1\n",
    "    else:\n",
    "        rollNumber.pop(i) #delete from list\n",
    "        \n",
    "print(rollNumber)"
   ]
  },
  {
   "cell_type": "code",
   "execution_count": null,
   "id": "a4b84aef",
   "metadata": {},
   "outputs": [],
   "source": []
  }
 ],
 "metadata": {
  "kernelspec": {
   "display_name": "Python 3 (ipykernel)",
   "language": "python",
   "name": "python3"
  },
  "language_info": {
   "codemirror_mode": {
    "name": "ipython",
    "version": 3
   },
   "file_extension": ".py",
   "mimetype": "text/x-python",
   "name": "python",
   "nbconvert_exporter": "python",
   "pygments_lexer": "ipython3",
   "version": "3.9.12"
  }
 },
 "nbformat": 4,
 "nbformat_minor": 5
}
